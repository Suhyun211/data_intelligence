{
 "cells": [
  {
   "cell_type": "markdown",
   "metadata": {
    "id": "N2E-NLLgV4ef"
   },
   "source": [
    "<h1>앙상블 모델</h1>"
   ]
  },
  {
   "cell_type": "code",
   "execution_count": 1,
   "metadata": {
    "executionInfo": {
     "elapsed": 1886,
     "status": "ok",
     "timestamp": 1756101591797,
     "user": {
      "displayName": "colab c",
      "userId": "17273071048194274415"
     },
     "user_tz": -540
    },
    "id": "5-DbAwyMVnK2"
   },
   "outputs": [],
   "source": [
    "# libraries\n",
    "import numpy as np\n",
    "import pandas as pd\n",
    "import matplotlib.pyplot as plt\n",
    "from sklearn.model_selection import train_test_split\n",
    "from sklearn.model_selection import cross_val_score"
   ]
  },
  {
   "cell_type": "code",
   "execution_count": 2,
   "metadata": {
    "executionInfo": {
     "elapsed": 345,
     "status": "ok",
     "timestamp": 1756101592145,
     "user": {
      "displayName": "colab c",
      "userId": "17273071048194274415"
     },
     "user_tz": -540
    },
    "id": "3vzfFmTfWCvt"
   },
   "outputs": [],
   "source": [
    "# 당뇨 데이터 셋\n",
    "from sklearn.datasets import load_diabetes\n",
    "X, y = load_diabetes(return_X_y=True,as_frame=True)\n",
    "xtrain, xtest, ytrain, ytest = train_test_split(X,y,test_size=0.4,random_state=42)"
   ]
  },
  {
   "cell_type": "markdown",
   "metadata": {
    "id": "P84QMHsoWK8P"
   },
   "source": [
    "# 트리 모델"
   ]
  },
  {
   "cell_type": "markdown",
   "metadata": {
    "id": "H5yjwE9C7zk3"
   },
   "source": [
    "최대 트리 모델"
   ]
  },
  {
   "cell_type": "code",
   "execution_count": 3,
   "metadata": {
    "executionInfo": {
     "elapsed": 924,
     "status": "ok",
     "timestamp": 1756101593058,
     "user": {
      "displayName": "colab c",
      "userId": "17273071048194274415"
     },
     "user_tz": -540
    },
    "id": "zmUfb7kWWOs9"
   },
   "outputs": [],
   "source": [
    "from sklearn.tree import DecisionTreeRegressor\n",
    "f = DecisionTreeRegressor(\n",
    "    max_depth = None,       # 트리의 최대 깊이\n",
    "    min_samples_split = 2,  # 분할할 최대 샘플의 수\n",
    "    min_samples_leaf = 1,   # 하나의 노드가 갖는 최소 샘플 수\n",
    "    max_leaf_nodes = None   # 최대 트리의 단말 노드 수\n",
    ")"
   ]
  },
  {
   "cell_type": "code",
   "execution_count": 4,
   "metadata": {
    "colab": {
     "base_uri": "https://localhost:8080/"
    },
    "executionInfo": {
     "elapsed": 50,
     "status": "ok",
     "timestamp": 1756101593123,
     "user": {
      "displayName": "colab c",
      "userId": "17273071048194274415"
     },
     "user_tz": -540
    },
    "id": "FVT-ufsI4Hdb",
    "outputId": "72872134-c19a-4504-d018-40e92ef95fe6"
   },
   "outputs": [
    {
     "name": "stdout",
     "output_type": "stream",
     "text": [
      "18 259 (265, 10)\n"
     ]
    }
   ],
   "source": [
    "f.fit(xtrain,ytrain)\n",
    "print( f.get_depth(), f.get_n_leaves(), xtrain.shape )"
   ]
  },
  {
   "cell_type": "code",
   "execution_count": 5,
   "metadata": {
    "colab": {
     "base_uri": "https://localhost:8080/"
    },
    "executionInfo": {
     "elapsed": 46,
     "status": "ok",
     "timestamp": 1756101593171,
     "user": {
      "displayName": "colab c",
      "userId": "17273071048194274415"
     },
     "user_tz": -540
    },
    "id": "Ao0Zn-3c50wJ",
    "outputId": "a5b57acc-3ba7-4c58-db69-35d1582e6e6a"
   },
   "outputs": [
    {
     "name": "stdout",
     "output_type": "stream",
     "text": [
      "1.0 -0.08128530387117494\n"
     ]
    }
   ],
   "source": [
    "print( f.score(xtrain,ytrain), f.score(xtest,ytest) )"
   ]
  },
  {
   "cell_type": "markdown",
   "metadata": {
    "id": "cuuwVFd875E3"
   },
   "source": [
    "파라메터 튜닝"
   ]
  },
  {
   "cell_type": "code",
   "execution_count": 6,
   "metadata": {
    "colab": {
     "base_uri": "https://localhost:8080/",
     "height": 166
    },
    "executionInfo": {
     "elapsed": 9209,
     "status": "ok",
     "timestamp": 1756101602364,
     "user": {
      "displayName": "colab c",
      "userId": "17273071048194274415"
     },
     "user_tz": -540
    },
    "id": "mp3lGr326KsB",
    "outputId": "8a164366-67ba-4ce8-8ac2-648e77edb4ff"
   },
   "outputs": [
    {
     "data": {
      "text/html": [
       "<style>#sk-container-id-1 {\n",
       "  /* Definition of color scheme common for light and dark mode */\n",
       "  --sklearn-color-text: #000;\n",
       "  --sklearn-color-text-muted: #666;\n",
       "  --sklearn-color-line: gray;\n",
       "  /* Definition of color scheme for unfitted estimators */\n",
       "  --sklearn-color-unfitted-level-0: #fff5e6;\n",
       "  --sklearn-color-unfitted-level-1: #f6e4d2;\n",
       "  --sklearn-color-unfitted-level-2: #ffe0b3;\n",
       "  --sklearn-color-unfitted-level-3: chocolate;\n",
       "  /* Definition of color scheme for fitted estimators */\n",
       "  --sklearn-color-fitted-level-0: #f0f8ff;\n",
       "  --sklearn-color-fitted-level-1: #d4ebff;\n",
       "  --sklearn-color-fitted-level-2: #b3dbfd;\n",
       "  --sklearn-color-fitted-level-3: cornflowerblue;\n",
       "\n",
       "  /* Specific color for light theme */\n",
       "  --sklearn-color-text-on-default-background: var(--sg-text-color, var(--theme-code-foreground, var(--jp-content-font-color1, black)));\n",
       "  --sklearn-color-background: var(--sg-background-color, var(--theme-background, var(--jp-layout-color0, white)));\n",
       "  --sklearn-color-border-box: var(--sg-text-color, var(--theme-code-foreground, var(--jp-content-font-color1, black)));\n",
       "  --sklearn-color-icon: #696969;\n",
       "\n",
       "  @media (prefers-color-scheme: dark) {\n",
       "    /* Redefinition of color scheme for dark theme */\n",
       "    --sklearn-color-text-on-default-background: var(--sg-text-color, var(--theme-code-foreground, var(--jp-content-font-color1, white)));\n",
       "    --sklearn-color-background: var(--sg-background-color, var(--theme-background, var(--jp-layout-color0, #111)));\n",
       "    --sklearn-color-border-box: var(--sg-text-color, var(--theme-code-foreground, var(--jp-content-font-color1, white)));\n",
       "    --sklearn-color-icon: #878787;\n",
       "  }\n",
       "}\n",
       "\n",
       "#sk-container-id-1 {\n",
       "  color: var(--sklearn-color-text);\n",
       "}\n",
       "\n",
       "#sk-container-id-1 pre {\n",
       "  padding: 0;\n",
       "}\n",
       "\n",
       "#sk-container-id-1 input.sk-hidden--visually {\n",
       "  border: 0;\n",
       "  clip: rect(1px 1px 1px 1px);\n",
       "  clip: rect(1px, 1px, 1px, 1px);\n",
       "  height: 1px;\n",
       "  margin: -1px;\n",
       "  overflow: hidden;\n",
       "  padding: 0;\n",
       "  position: absolute;\n",
       "  width: 1px;\n",
       "}\n",
       "\n",
       "#sk-container-id-1 div.sk-dashed-wrapped {\n",
       "  border: 1px dashed var(--sklearn-color-line);\n",
       "  margin: 0 0.4em 0.5em 0.4em;\n",
       "  box-sizing: border-box;\n",
       "  padding-bottom: 0.4em;\n",
       "  background-color: var(--sklearn-color-background);\n",
       "}\n",
       "\n",
       "#sk-container-id-1 div.sk-container {\n",
       "  /* jupyter's `normalize.less` sets `[hidden] { display: none; }`\n",
       "     but bootstrap.min.css set `[hidden] { display: none !important; }`\n",
       "     so we also need the `!important` here to be able to override the\n",
       "     default hidden behavior on the sphinx rendered scikit-learn.org.\n",
       "     See: https://github.com/scikit-learn/scikit-learn/issues/21755 */\n",
       "  display: inline-block !important;\n",
       "  position: relative;\n",
       "}\n",
       "\n",
       "#sk-container-id-1 div.sk-text-repr-fallback {\n",
       "  display: none;\n",
       "}\n",
       "\n",
       "div.sk-parallel-item,\n",
       "div.sk-serial,\n",
       "div.sk-item {\n",
       "  /* draw centered vertical line to link estimators */\n",
       "  background-image: linear-gradient(var(--sklearn-color-text-on-default-background), var(--sklearn-color-text-on-default-background));\n",
       "  background-size: 2px 100%;\n",
       "  background-repeat: no-repeat;\n",
       "  background-position: center center;\n",
       "}\n",
       "\n",
       "/* Parallel-specific style estimator block */\n",
       "\n",
       "#sk-container-id-1 div.sk-parallel-item::after {\n",
       "  content: \"\";\n",
       "  width: 100%;\n",
       "  border-bottom: 2px solid var(--sklearn-color-text-on-default-background);\n",
       "  flex-grow: 1;\n",
       "}\n",
       "\n",
       "#sk-container-id-1 div.sk-parallel {\n",
       "  display: flex;\n",
       "  align-items: stretch;\n",
       "  justify-content: center;\n",
       "  background-color: var(--sklearn-color-background);\n",
       "  position: relative;\n",
       "}\n",
       "\n",
       "#sk-container-id-1 div.sk-parallel-item {\n",
       "  display: flex;\n",
       "  flex-direction: column;\n",
       "}\n",
       "\n",
       "#sk-container-id-1 div.sk-parallel-item:first-child::after {\n",
       "  align-self: flex-end;\n",
       "  width: 50%;\n",
       "}\n",
       "\n",
       "#sk-container-id-1 div.sk-parallel-item:last-child::after {\n",
       "  align-self: flex-start;\n",
       "  width: 50%;\n",
       "}\n",
       "\n",
       "#sk-container-id-1 div.sk-parallel-item:only-child::after {\n",
       "  width: 0;\n",
       "}\n",
       "\n",
       "/* Serial-specific style estimator block */\n",
       "\n",
       "#sk-container-id-1 div.sk-serial {\n",
       "  display: flex;\n",
       "  flex-direction: column;\n",
       "  align-items: center;\n",
       "  background-color: var(--sklearn-color-background);\n",
       "  padding-right: 1em;\n",
       "  padding-left: 1em;\n",
       "}\n",
       "\n",
       "\n",
       "/* Toggleable style: style used for estimator/Pipeline/ColumnTransformer box that is\n",
       "clickable and can be expanded/collapsed.\n",
       "- Pipeline and ColumnTransformer use this feature and define the default style\n",
       "- Estimators will overwrite some part of the style using the `sk-estimator` class\n",
       "*/\n",
       "\n",
       "/* Pipeline and ColumnTransformer style (default) */\n",
       "\n",
       "#sk-container-id-1 div.sk-toggleable {\n",
       "  /* Default theme specific background. It is overwritten whether we have a\n",
       "  specific estimator or a Pipeline/ColumnTransformer */\n",
       "  background-color: var(--sklearn-color-background);\n",
       "}\n",
       "\n",
       "/* Toggleable label */\n",
       "#sk-container-id-1 label.sk-toggleable__label {\n",
       "  cursor: pointer;\n",
       "  display: flex;\n",
       "  width: 100%;\n",
       "  margin-bottom: 0;\n",
       "  padding: 0.5em;\n",
       "  box-sizing: border-box;\n",
       "  text-align: center;\n",
       "  align-items: start;\n",
       "  justify-content: space-between;\n",
       "  gap: 0.5em;\n",
       "}\n",
       "\n",
       "#sk-container-id-1 label.sk-toggleable__label .caption {\n",
       "  font-size: 0.6rem;\n",
       "  font-weight: lighter;\n",
       "  color: var(--sklearn-color-text-muted);\n",
       "}\n",
       "\n",
       "#sk-container-id-1 label.sk-toggleable__label-arrow:before {\n",
       "  /* Arrow on the left of the label */\n",
       "  content: \"▸\";\n",
       "  float: left;\n",
       "  margin-right: 0.25em;\n",
       "  color: var(--sklearn-color-icon);\n",
       "}\n",
       "\n",
       "#sk-container-id-1 label.sk-toggleable__label-arrow:hover:before {\n",
       "  color: var(--sklearn-color-text);\n",
       "}\n",
       "\n",
       "/* Toggleable content - dropdown */\n",
       "\n",
       "#sk-container-id-1 div.sk-toggleable__content {\n",
       "  max-height: 0;\n",
       "  max-width: 0;\n",
       "  overflow: hidden;\n",
       "  text-align: left;\n",
       "  /* unfitted */\n",
       "  background-color: var(--sklearn-color-unfitted-level-0);\n",
       "}\n",
       "\n",
       "#sk-container-id-1 div.sk-toggleable__content.fitted {\n",
       "  /* fitted */\n",
       "  background-color: var(--sklearn-color-fitted-level-0);\n",
       "}\n",
       "\n",
       "#sk-container-id-1 div.sk-toggleable__content pre {\n",
       "  margin: 0.2em;\n",
       "  border-radius: 0.25em;\n",
       "  color: var(--sklearn-color-text);\n",
       "  /* unfitted */\n",
       "  background-color: var(--sklearn-color-unfitted-level-0);\n",
       "}\n",
       "\n",
       "#sk-container-id-1 div.sk-toggleable__content.fitted pre {\n",
       "  /* unfitted */\n",
       "  background-color: var(--sklearn-color-fitted-level-0);\n",
       "}\n",
       "\n",
       "#sk-container-id-1 input.sk-toggleable__control:checked~div.sk-toggleable__content {\n",
       "  /* Expand drop-down */\n",
       "  max-height: 200px;\n",
       "  max-width: 100%;\n",
       "  overflow: auto;\n",
       "}\n",
       "\n",
       "#sk-container-id-1 input.sk-toggleable__control:checked~label.sk-toggleable__label-arrow:before {\n",
       "  content: \"▾\";\n",
       "}\n",
       "\n",
       "/* Pipeline/ColumnTransformer-specific style */\n",
       "\n",
       "#sk-container-id-1 div.sk-label input.sk-toggleable__control:checked~label.sk-toggleable__label {\n",
       "  color: var(--sklearn-color-text);\n",
       "  background-color: var(--sklearn-color-unfitted-level-2);\n",
       "}\n",
       "\n",
       "#sk-container-id-1 div.sk-label.fitted input.sk-toggleable__control:checked~label.sk-toggleable__label {\n",
       "  background-color: var(--sklearn-color-fitted-level-2);\n",
       "}\n",
       "\n",
       "/* Estimator-specific style */\n",
       "\n",
       "/* Colorize estimator box */\n",
       "#sk-container-id-1 div.sk-estimator input.sk-toggleable__control:checked~label.sk-toggleable__label {\n",
       "  /* unfitted */\n",
       "  background-color: var(--sklearn-color-unfitted-level-2);\n",
       "}\n",
       "\n",
       "#sk-container-id-1 div.sk-estimator.fitted input.sk-toggleable__control:checked~label.sk-toggleable__label {\n",
       "  /* fitted */\n",
       "  background-color: var(--sklearn-color-fitted-level-2);\n",
       "}\n",
       "\n",
       "#sk-container-id-1 div.sk-label label.sk-toggleable__label,\n",
       "#sk-container-id-1 div.sk-label label {\n",
       "  /* The background is the default theme color */\n",
       "  color: var(--sklearn-color-text-on-default-background);\n",
       "}\n",
       "\n",
       "/* On hover, darken the color of the background */\n",
       "#sk-container-id-1 div.sk-label:hover label.sk-toggleable__label {\n",
       "  color: var(--sklearn-color-text);\n",
       "  background-color: var(--sklearn-color-unfitted-level-2);\n",
       "}\n",
       "\n",
       "/* Label box, darken color on hover, fitted */\n",
       "#sk-container-id-1 div.sk-label.fitted:hover label.sk-toggleable__label.fitted {\n",
       "  color: var(--sklearn-color-text);\n",
       "  background-color: var(--sklearn-color-fitted-level-2);\n",
       "}\n",
       "\n",
       "/* Estimator label */\n",
       "\n",
       "#sk-container-id-1 div.sk-label label {\n",
       "  font-family: monospace;\n",
       "  font-weight: bold;\n",
       "  display: inline-block;\n",
       "  line-height: 1.2em;\n",
       "}\n",
       "\n",
       "#sk-container-id-1 div.sk-label-container {\n",
       "  text-align: center;\n",
       "}\n",
       "\n",
       "/* Estimator-specific */\n",
       "#sk-container-id-1 div.sk-estimator {\n",
       "  font-family: monospace;\n",
       "  border: 1px dotted var(--sklearn-color-border-box);\n",
       "  border-radius: 0.25em;\n",
       "  box-sizing: border-box;\n",
       "  margin-bottom: 0.5em;\n",
       "  /* unfitted */\n",
       "  background-color: var(--sklearn-color-unfitted-level-0);\n",
       "}\n",
       "\n",
       "#sk-container-id-1 div.sk-estimator.fitted {\n",
       "  /* fitted */\n",
       "  background-color: var(--sklearn-color-fitted-level-0);\n",
       "}\n",
       "\n",
       "/* on hover */\n",
       "#sk-container-id-1 div.sk-estimator:hover {\n",
       "  /* unfitted */\n",
       "  background-color: var(--sklearn-color-unfitted-level-2);\n",
       "}\n",
       "\n",
       "#sk-container-id-1 div.sk-estimator.fitted:hover {\n",
       "  /* fitted */\n",
       "  background-color: var(--sklearn-color-fitted-level-2);\n",
       "}\n",
       "\n",
       "/* Specification for estimator info (e.g. \"i\" and \"?\") */\n",
       "\n",
       "/* Common style for \"i\" and \"?\" */\n",
       "\n",
       ".sk-estimator-doc-link,\n",
       "a:link.sk-estimator-doc-link,\n",
       "a:visited.sk-estimator-doc-link {\n",
       "  float: right;\n",
       "  font-size: smaller;\n",
       "  line-height: 1em;\n",
       "  font-family: monospace;\n",
       "  background-color: var(--sklearn-color-background);\n",
       "  border-radius: 1em;\n",
       "  height: 1em;\n",
       "  width: 1em;\n",
       "  text-decoration: none !important;\n",
       "  margin-left: 0.5em;\n",
       "  text-align: center;\n",
       "  /* unfitted */\n",
       "  border: var(--sklearn-color-unfitted-level-1) 1pt solid;\n",
       "  color: var(--sklearn-color-unfitted-level-1);\n",
       "}\n",
       "\n",
       ".sk-estimator-doc-link.fitted,\n",
       "a:link.sk-estimator-doc-link.fitted,\n",
       "a:visited.sk-estimator-doc-link.fitted {\n",
       "  /* fitted */\n",
       "  border: var(--sklearn-color-fitted-level-1) 1pt solid;\n",
       "  color: var(--sklearn-color-fitted-level-1);\n",
       "}\n",
       "\n",
       "/* On hover */\n",
       "div.sk-estimator:hover .sk-estimator-doc-link:hover,\n",
       ".sk-estimator-doc-link:hover,\n",
       "div.sk-label-container:hover .sk-estimator-doc-link:hover,\n",
       ".sk-estimator-doc-link:hover {\n",
       "  /* unfitted */\n",
       "  background-color: var(--sklearn-color-unfitted-level-3);\n",
       "  color: var(--sklearn-color-background);\n",
       "  text-decoration: none;\n",
       "}\n",
       "\n",
       "div.sk-estimator.fitted:hover .sk-estimator-doc-link.fitted:hover,\n",
       ".sk-estimator-doc-link.fitted:hover,\n",
       "div.sk-label-container:hover .sk-estimator-doc-link.fitted:hover,\n",
       ".sk-estimator-doc-link.fitted:hover {\n",
       "  /* fitted */\n",
       "  background-color: var(--sklearn-color-fitted-level-3);\n",
       "  color: var(--sklearn-color-background);\n",
       "  text-decoration: none;\n",
       "}\n",
       "\n",
       "/* Span, style for the box shown on hovering the info icon */\n",
       ".sk-estimator-doc-link span {\n",
       "  display: none;\n",
       "  z-index: 9999;\n",
       "  position: relative;\n",
       "  font-weight: normal;\n",
       "  right: .2ex;\n",
       "  padding: .5ex;\n",
       "  margin: .5ex;\n",
       "  width: min-content;\n",
       "  min-width: 20ex;\n",
       "  max-width: 50ex;\n",
       "  color: var(--sklearn-color-text);\n",
       "  box-shadow: 2pt 2pt 4pt #999;\n",
       "  /* unfitted */\n",
       "  background: var(--sklearn-color-unfitted-level-0);\n",
       "  border: .5pt solid var(--sklearn-color-unfitted-level-3);\n",
       "}\n",
       "\n",
       ".sk-estimator-doc-link.fitted span {\n",
       "  /* fitted */\n",
       "  background: var(--sklearn-color-fitted-level-0);\n",
       "  border: var(--sklearn-color-fitted-level-3);\n",
       "}\n",
       "\n",
       ".sk-estimator-doc-link:hover span {\n",
       "  display: block;\n",
       "}\n",
       "\n",
       "/* \"?\"-specific style due to the `<a>` HTML tag */\n",
       "\n",
       "#sk-container-id-1 a.estimator_doc_link {\n",
       "  float: right;\n",
       "  font-size: 1rem;\n",
       "  line-height: 1em;\n",
       "  font-family: monospace;\n",
       "  background-color: var(--sklearn-color-background);\n",
       "  border-radius: 1rem;\n",
       "  height: 1rem;\n",
       "  width: 1rem;\n",
       "  text-decoration: none;\n",
       "  /* unfitted */\n",
       "  color: var(--sklearn-color-unfitted-level-1);\n",
       "  border: var(--sklearn-color-unfitted-level-1) 1pt solid;\n",
       "}\n",
       "\n",
       "#sk-container-id-1 a.estimator_doc_link.fitted {\n",
       "  /* fitted */\n",
       "  border: var(--sklearn-color-fitted-level-1) 1pt solid;\n",
       "  color: var(--sklearn-color-fitted-level-1);\n",
       "}\n",
       "\n",
       "/* On hover */\n",
       "#sk-container-id-1 a.estimator_doc_link:hover {\n",
       "  /* unfitted */\n",
       "  background-color: var(--sklearn-color-unfitted-level-3);\n",
       "  color: var(--sklearn-color-background);\n",
       "  text-decoration: none;\n",
       "}\n",
       "\n",
       "#sk-container-id-1 a.estimator_doc_link.fitted:hover {\n",
       "  /* fitted */\n",
       "  background-color: var(--sklearn-color-fitted-level-3);\n",
       "}\n",
       "</style><div id=\"sk-container-id-1\" class=\"sk-top-container\"><div class=\"sk-text-repr-fallback\"><pre>GridSearchCV(estimator=DecisionTreeRegressor(),\n",
       "             param_grid={&#x27;max_depth&#x27;: [2, 3, 4, 5, 6, 7, 8, 9, 10, None],\n",
       "                         &#x27;max_leaf_nodes&#x27;: [3, 5, 7, 10, 13, 15, 17, 20, 25, 30,\n",
       "                                            40, 50, None]})</pre><b>In a Jupyter environment, please rerun this cell to show the HTML representation or trust the notebook. <br />On GitHub, the HTML representation is unable to render, please try loading this page with nbviewer.org.</b></div><div class=\"sk-container\" hidden><div class=\"sk-item sk-dashed-wrapped\"><div class=\"sk-label-container\"><div class=\"sk-label fitted sk-toggleable\"><input class=\"sk-toggleable__control sk-hidden--visually\" id=\"sk-estimator-id-1\" type=\"checkbox\" ><label for=\"sk-estimator-id-1\" class=\"sk-toggleable__label fitted sk-toggleable__label-arrow\"><div><div>GridSearchCV</div></div><div><a class=\"sk-estimator-doc-link fitted\" rel=\"noreferrer\" target=\"_blank\" href=\"https://scikit-learn.org/1.6/modules/generated/sklearn.model_selection.GridSearchCV.html\">?<span>Documentation for GridSearchCV</span></a><span class=\"sk-estimator-doc-link fitted\">i<span>Fitted</span></span></div></label><div class=\"sk-toggleable__content fitted\"><pre>GridSearchCV(estimator=DecisionTreeRegressor(),\n",
       "             param_grid={&#x27;max_depth&#x27;: [2, 3, 4, 5, 6, 7, 8, 9, 10, None],\n",
       "                         &#x27;max_leaf_nodes&#x27;: [3, 5, 7, 10, 13, 15, 17, 20, 25, 30,\n",
       "                                            40, 50, None]})</pre></div> </div></div><div class=\"sk-parallel\"><div class=\"sk-parallel-item\"><div class=\"sk-item\"><div class=\"sk-label-container\"><div class=\"sk-label fitted sk-toggleable\"><input class=\"sk-toggleable__control sk-hidden--visually\" id=\"sk-estimator-id-2\" type=\"checkbox\" ><label for=\"sk-estimator-id-2\" class=\"sk-toggleable__label fitted sk-toggleable__label-arrow\"><div><div>best_estimator_: DecisionTreeRegressor</div></div></label><div class=\"sk-toggleable__content fitted\"><pre>DecisionTreeRegressor(max_depth=2, max_leaf_nodes=5)</pre></div> </div></div><div class=\"sk-serial\"><div class=\"sk-item\"><div class=\"sk-estimator fitted sk-toggleable\"><input class=\"sk-toggleable__control sk-hidden--visually\" id=\"sk-estimator-id-3\" type=\"checkbox\" ><label for=\"sk-estimator-id-3\" class=\"sk-toggleable__label fitted sk-toggleable__label-arrow\"><div><div>DecisionTreeRegressor</div></div><div><a class=\"sk-estimator-doc-link fitted\" rel=\"noreferrer\" target=\"_blank\" href=\"https://scikit-learn.org/1.6/modules/generated/sklearn.tree.DecisionTreeRegressor.html\">?<span>Documentation for DecisionTreeRegressor</span></a></div></label><div class=\"sk-toggleable__content fitted\"><pre>DecisionTreeRegressor(max_depth=2, max_leaf_nodes=5)</pre></div> </div></div></div></div></div></div></div></div></div>"
      ],
      "text/plain": [
       "GridSearchCV(estimator=DecisionTreeRegressor(),\n",
       "             param_grid={'max_depth': [2, 3, 4, 5, 6, 7, 8, 9, 10, None],\n",
       "                         'max_leaf_nodes': [3, 5, 7, 10, 13, 15, 17, 20, 25, 30,\n",
       "                                            40, 50, None]})"
      ]
     },
     "execution_count": 6,
     "metadata": {},
     "output_type": "execute_result"
    }
   ],
   "source": [
    "from sklearn.model_selection import GridSearchCV\n",
    "params = {\n",
    "    'max_depth': [2,3,4,5,6,7,8,9,10,None],\n",
    "    'max_leaf_nodes': [3,5,7,10,13,15,17,20,25,30,40,50,None]\n",
    "}\n",
    "f = GridSearchCV( DecisionTreeRegressor(), params )\n",
    "f.fit(xtrain,ytrain)"
   ]
  },
  {
   "cell_type": "code",
   "execution_count": 7,
   "metadata": {
    "colab": {
     "base_uri": "https://localhost:8080/"
    },
    "executionInfo": {
     "elapsed": 21,
     "status": "ok",
     "timestamp": 1756101602384,
     "user": {
      "displayName": "colab c",
      "userId": "17273071048194274415"
     },
     "user_tz": -540
    },
    "id": "SVBq-Zjc7U_N",
    "outputId": "6ab0dbfd-12f0-4d00-e231-f0b4af289bbb"
   },
   "outputs": [
    {
     "name": "stdout",
     "output_type": "stream",
     "text": [
      "0.4432928560714796 0.3826012387908083\n"
     ]
    }
   ],
   "source": [
    "print( f.score(xtrain,ytrain), f.score(xtest,ytest) )"
   ]
  },
  {
   "cell_type": "code",
   "execution_count": 8,
   "metadata": {
    "colab": {
     "base_uri": "https://localhost:8080/"
    },
    "executionInfo": {
     "elapsed": 39,
     "status": "ok",
     "timestamp": 1756101602424,
     "user": {
      "displayName": "colab c",
      "userId": "17273071048194274415"
     },
     "user_tz": -540
    },
    "id": "NONYsiRt8cJg",
    "outputId": "05ff8ab3-3d3f-41a5-97da-d680dac2f54d"
   },
   "outputs": [
    {
     "data": {
      "text/plain": [
       "{'max_depth': 2, 'max_leaf_nodes': 5}"
      ]
     },
     "execution_count": 8,
     "metadata": {},
     "output_type": "execute_result"
    }
   ],
   "source": [
    "f.best_params_"
   ]
  },
  {
   "cell_type": "code",
   "execution_count": 9,
   "metadata": {
    "colab": {
     "base_uri": "https://localhost:8080/",
     "height": 406
    },
    "executionInfo": {
     "elapsed": 664,
     "status": "ok",
     "timestamp": 1756101603073,
     "user": {
      "displayName": "colab c",
      "userId": "17273071048194274415"
     },
     "user_tz": -540
    },
    "id": "ZtBEyOHk8ii4",
    "outputId": "40c55019-fa34-4a5a-d01c-9e2355ece84d"
   },
   "outputs": [
    {
     "data": {
      "image/png": "[encoded data removed]",
      "text/plain": [
       "<Figure size 640x480 with 1 Axes>"
      ]
     },
     "metadata": {},
     "output_type": "display_data"
    }
   ],
   "source": [
    "from sklearn.tree import plot_tree\n",
    "plot_tree(f.best_estimator_)\n",
    "plt.show()"
   ]
  },
  {
   "cell_type": "markdown",
   "metadata": {
    "id": "jI2-1Dn-GudU"
   },
   "source": [
    "# 랜덤포레스트"
   ]
  },
  {
   "cell_type": "markdown",
   "metadata": {
    "id": "b3YuzzYBIiia"
   },
   "source": [
    "트리 모델 + 배깅"
   ]
  },
  {
   "cell_type": "code",
   "execution_count": 10,
   "metadata": {
    "executionInfo": {
     "elapsed": 205,
     "status": "ok",
     "timestamp": 1756101603279,
     "user": {
      "displayName": "colab c",
      "userId": "17273071048194274415"
     },
     "user_tz": -540
    },
    "id": "iefcHvkK8oWX"
   },
   "outputs": [],
   "source": [
    "from sklearn.ensemble import RandomForestRegressor\n",
    "f = RandomForestRegressor(\n",
    "    n_estimators = 100,     # 앙상블할 트리의 수\n",
    "    max_features = 1,       # 사용할 변수의 비율\n",
    "    max_depth = None,       # 트리의 최대 깊이\n",
    "    min_samples_split = 2,  # 분할할 최대 샘플의 수\n",
    "    min_samples_leaf = 1,   # 하나의 노드가 갖는 최소 샘플 수\n",
    "    max_leaf_nodes = None,  # 최대 트리의 단말 노드 수\n",
    "    random_state = 0        # 랜덤 시드\n",
    ")"
   ]
  },
  {
   "cell_type": "code",
   "execution_count": 11,
   "metadata": {
    "colab": {
     "base_uri": "https://localhost:8080/"
    },
    "executionInfo": {
     "elapsed": 632,
     "status": "ok",
     "timestamp": 1756101603919,
     "user": {
      "displayName": "colab c",
      "userId": "17273071048194274415"
     },
     "user_tz": -540
    },
    "id": "A6LEU7d1HwNv",
    "outputId": "4b46e896-a50c-441e-9260-5665c4e9921c"
   },
   "outputs": [
    {
     "name": "stdout",
     "output_type": "stream",
     "text": [
      "0.9091663573179152 0.4738163695476777\n"
     ]
    }
   ],
   "source": [
    "f.fit(xtrain,ytrain)\n",
    "print( f.score(xtrain,ytrain), f.score(xtest,ytest) )"
   ]
  },
  {
   "cell_type": "markdown",
   "metadata": {
    "id": "b7mqucbUIljF"
   },
   "source": [
    "트리 모델 + 배깅 + Sub-spacing"
   ]
  },
  {
   "cell_type": "code",
   "execution_count": 12,
   "metadata": {
    "colab": {
     "base_uri": "https://localhost:8080/"
    },
    "executionInfo": {
     "elapsed": 649,
     "status": "ok",
     "timestamp": 1756101604573,
     "user": {
      "displayName": "colab c",
      "userId": "17273071048194274415"
     },
     "user_tz": -540
    },
    "id": "yAVuNYEsIIaD",
    "outputId": "a8c2de16-4cf3-4031-ea6f-2ca9b9c9b018"
   },
   "outputs": [
    {
     "name": "stdout",
     "output_type": "stream",
     "text": [
      "0.9121198437511787 0.5074317605710911\n"
     ]
    }
   ],
   "source": [
    "f = RandomForestRegressor(\n",
    "    n_estimators = 100,     # 앙상블할 트리의 수\n",
    "    max_features = 0.33,    # 사용할 변수의 비율\n",
    "    max_depth = None,       # 트리의 최대 깊이\n",
    "    min_samples_split = 2,  # 분할할 최대 샘플의 수\n",
    "    min_samples_leaf = 1,   # 하나의 노드가 갖는 최소 샘플 수\n",
    "    max_leaf_nodes = None,  # 최대 트리의 단말 노드 수\n",
    "    random_state = 0        # 랜덤 시드\n",
    ")\n",
    "f.fit(xtrain,ytrain)\n",
    "print( f.score(xtrain,ytrain), f.score(xtest,ytest) )"
   ]
  },
  {
   "cell_type": "markdown",
   "metadata": {
    "id": "AwSZ0sZPI5en"
   },
   "source": [
    "모델 수에 따른 변화"
   ]
  },
  {
   "cell_type": "code",
   "execution_count": 13,
   "metadata": {
    "executionInfo": {
     "elapsed": 45729,
     "status": "ok",
     "timestamp": 1756101650321,
     "user": {
      "displayName": "colab c",
      "userId": "17273071048194274415"
     },
     "user_tz": -540
    },
    "id": "q_9Qaj6UIXc8"
   },
   "outputs": [],
   "source": [
    "nlist = [2,5,10,20,50,100,200,500,1000,5000,10000]\n",
    "r2_train = []; r2_test = []\n",
    "for n in nlist:\n",
    "  f = RandomForestRegressor(n_estimators=n,max_features=0.33)\n",
    "  f.fit(xtrain,ytrain)\n",
    "  r2_train.append( f.score(xtrain,ytrain) )\n",
    "  r2_test.append( f.score(xtest,ytest) )"
   ]
  },
  {
   "cell_type": "code",
   "execution_count": 14,
   "metadata": {
    "colab": {
     "base_uri": "https://localhost:8080/",
     "height": 467
    },
    "executionInfo": {
     "elapsed": 201,
     "status": "ok",
     "timestamp": 1756101650518,
     "user": {
      "displayName": "colab c",
      "userId": "17273071048194274415"
     },
     "user_tz": -540
    },
    "id": "BfVD81sSJey2",
    "outputId": "1b10bc5a-92ce-4478-a882-f2ea2b6a33a3"
   },
   "outputs": [
    {
     "data": {
      "text/plain": [
       "[<matplotlib.lines.Line2D at 0x7b14f3106c90>,\n",
       " <matplotlib.lines.Line2D at 0x7b14f0c9f260>]"
      ]
     },
     "execution_count": 14,
     "metadata": {},
     "output_type": "execute_result"
    },
    {
     "data": {
      "image/png": "[encoded data removed]",
      "text/plain": [
       "<Figure size 640x480 with 1 Axes>"
      ]
     },
     "metadata": {},
     "output_type": "display_data"
    }
   ],
   "source": [
    "plt.plot(np.log10(nlist),r2_train,np.log10(nlist),r2_test)"
   ]
  },
  {
   "cell_type": "markdown",
   "metadata": {
    "id": "tsPQ-6InKb3-"
   },
   "source": [
    "# GBM: Gradient Boosting Machine"
   ]
  },
  {
   "cell_type": "markdown",
   "metadata": {
    "id": "0zl5AHldLxBK"
   },
   "source": [
    "Gradient Boosting"
   ]
  },
  {
   "cell_type": "code",
   "execution_count": 15,
   "metadata": {
    "executionInfo": {
     "elapsed": 22,
     "status": "ok",
     "timestamp": 1756101650540,
     "user": {
      "displayName": "colab c",
      "userId": "17273071048194274415"
     },
     "user_tz": -540
    },
    "id": "2YpIVPMJJmzW"
   },
   "outputs": [],
   "source": [
    "from sklearn.ensemble import GradientBoostingRegressor\n",
    "f = GradientBoostingRegressor(\n",
    "    n_estimators = 100,     # 앙상블하는 트리의 수\n",
    "    max_depth = 3,          # 트리의 최대 깊이\n",
    "    min_samples_split = 2,  # 분할할 최대 샘플의 수\n",
    "    min_samples_leaf = 1,   # 하나의 노드가 갖는 최소 샘플 수\n",
    "    max_leaf_nodes = None,  # 최대 트리의 단말 노드 수\n",
    "    random_state = 0        # 랜덤 시드\n",
    ")"
   ]
  },
  {
   "cell_type": "code",
   "execution_count": 16,
   "metadata": {
    "colab": {
     "base_uri": "https://localhost:8080/"
    },
    "executionInfo": {
     "elapsed": 222,
     "status": "ok",
     "timestamp": 1756101650763,
     "user": {
      "displayName": "colab c",
      "userId": "17273071048194274415"
     },
     "user_tz": -540
    },
    "id": "xfE4SA7mLnwg",
    "outputId": "63dd7981-a185-42ec-98a3-43cb98296e07"
   },
   "outputs": [
    {
     "name": "stdout",
     "output_type": "stream",
     "text": [
      "0.8801941595332317 0.4768477608744519\n"
     ]
    }
   ],
   "source": [
    "f.fit(xtrain,ytrain)\n",
    "print( f.score(xtrain,ytrain), f.score(xtest,ytest) )"
   ]
  },
  {
   "cell_type": "markdown",
   "metadata": {
    "id": "ko3qWuyhL6_4"
   },
   "source": [
    "모델 수에 따른 변화"
   ]
  },
  {
   "cell_type": "code",
   "execution_count": 17,
   "metadata": {
    "executionInfo": {
     "elapsed": 90249,
     "status": "ok",
     "timestamp": 1756101741013,
     "user": {
      "displayName": "colab c",
      "userId": "17273071048194274415"
     },
     "user_tz": -540
    },
    "id": "vHWWM87SLo8o"
   },
   "outputs": [],
   "source": [
    "nlist = np.arange(2,200,2)\n",
    "r2_train = []; r2_cv = []; r2_test = []\n",
    "for n in nlist:\n",
    "  f = GradientBoostingRegressor(n_estimators=n,max_depth=3)\n",
    "  f.fit(xtrain,ytrain)\n",
    "  r2_train.append( f.score(xtrain,ytrain) )\n",
    "  r2_cv.append( cross_val_score(f,xtrain,ytrain).mean() )\n",
    "  r2_test.append( f.score(xtest,ytest) )"
   ]
  },
  {
   "cell_type": "code",
   "execution_count": 18,
   "metadata": {
    "colab": {
     "base_uri": "https://localhost:8080/",
     "height": 448
    },
    "executionInfo": {
     "elapsed": 745,
     "status": "ok",
     "timestamp": 1756101741753,
     "user": {
      "displayName": "colab c",
      "userId": "17273071048194274415"
     },
     "user_tz": -540
    },
    "id": "8fxRPIh5MeKW",
    "outputId": "a7cbefd9-a3ce-422f-d543-4486ac09a947"
   },
   "outputs": [
    {
     "data": {
      "text/plain": [
       "<matplotlib.legend.Legend at 0x7b14f36b3a70>"
      ]
     },
     "execution_count": 18,
     "metadata": {},
     "output_type": "execute_result"
    },
    {
     "data": {
      "image/png": "[encoded data removed]",
      "text/plain": [
       "<Figure size 640x480 with 1 Axes>"
      ]
     },
     "metadata": {},
     "output_type": "display_data"
    }
   ],
   "source": [
    "plt.plot(nlist,r2_train,nlist,r2_cv,nlist,r2_test)\n",
    "plt.legend(['Train','CV','Test'])"
   ]
  },
  {
   "cell_type": "markdown",
   "metadata": {
    "id": "igDONLYGJj0P"
   },
   "source": [
    "# 연습문제"
   ]
  },
  {
   "cell_type": "markdown",
   "metadata": {
    "id": "ub4OaupIJtI_"
   },
   "source": [
    "1. 아이리스 데이터 셋을 트리 모델을 이용하여 훈련하시오. DecisionTreeClassifier를 사용하고, 모든 파라메터는 기본값을 사용하시오. 훈련 데이터와 평가 데이터의 성능은 각각 얼마인가? 만들어진 트리 모델의 깊이와 크기는 얼마인가?"
   ]
  },
  {
   "cell_type": "code",
   "execution_count": 33,
   "metadata": {
    "executionInfo": {
     "elapsed": 9,
     "status": "ok",
     "timestamp": 1756101834024,
     "user": {
      "displayName": "colab c",
      "userId": "17273071048194274415"
     },
     "user_tz": -540
    },
    "id": "ZgpqS7_rJlgE"
   },
   "outputs": [],
   "source": [
    "from sklearn.datasets import load_iris\n",
    "X, y = load_iris(return_X_y=True)\n",
    "xtrain, xtest, ytrain, ytest = train_test_split(X,y,test_size=0.3,random_state=42)"
   ]
  },
  {
   "cell_type": "code",
   "execution_count": 47,
   "metadata": {
    "colab": {
     "base_uri": "https://localhost:8080/"
    },
    "executionInfo": {
     "elapsed": 25,
     "status": "ok",
     "timestamp": 1756101848425,
     "user": {
      "displayName": "colab c",
      "userId": "17273071048194274415"
     },
     "user_tz": -540
    },
    "id": "vg9pw3hrjXuj",
    "outputId": "5b8a66b6-8c34-418f-9893-371aa9ab1fb7"
   },
   "outputs": [
    {
     "name": "stdout",
     "output_type": "stream",
     "text": [
      "1.0 1.0\n"
     ]
    }
   ],
   "source": [
    "from sklearn.tree import DecisionTreeClassifier\n",
    "f = DecisionTreeClassifier()\n",
    "\n",
    "f.fit(xtrain,ytrain)\n",
    "print( f.score(xtrain,ytrain), f.score(xtest,ytest) )"
   ]
  },
  {
   "cell_type": "code",
   "execution_count": null,
   "metadata": {
    "colab": {
     "base_uri": "https://localhost:8080/"
    },
    "executionInfo": {
     "elapsed": 6,
     "status": "ok",
     "timestamp": 1756101848775,
     "user": {
      "displayName": "colab c",
      "userId": "17273071048194274415"
     },
     "user_tz": -540
    },
    "id": "1-0BICuPjXuj",
    "outputId": "51205c07-fab4-4ffb-a301-4781a4a9aca1"
   },
   "outputs": [
    {
     "data": {
      "text/plain": [
       "5"
      ]
     },
     "execution_count": 48,
     "metadata": {},
     "output_type": "execute_result"
    }
   ],
   "source": [
    "# 모델의 깊이 (5 또는 6)\n",
    "f.get_depth()"
   ]
  },
  {
   "cell_type": "code",
   "execution_count": null,
   "metadata": {
    "colab": {
     "base_uri": "https://localhost:8080/"
    },
    "executionInfo": {
     "elapsed": 4,
     "status": "ok",
     "timestamp": 1756101834621,
     "user": {
      "displayName": "colab c",
      "userId": "17273071048194274415"
     },
     "user_tz": -540
    },
    "id": "HP8nizgaRRbh",
    "outputId": "e483745e-5788-4a37-eda5-31f86ee540bc"
   },
   "outputs": [
    {
     "data": {
      "text/plain": [
       "np.int64(10)"
      ]
     },
     "execution_count": 36,
     "metadata": {},
     "output_type": "execute_result"
    }
   ],
   "source": [
    "# 모델의 크기\n",
    "f.get_n_leaves()"
   ]
  },
  {
   "cell_type": "code",
   "execution_count": 23,
   "metadata": {
    "colab": {
     "base_uri": "https://localhost:8080/",
     "height": 796
    },
    "executionInfo": {
     "elapsed": 756,
     "status": "ok",
     "timestamp": 1756101742568,
     "user": {
      "displayName": "colab c",
      "userId": "17273071048194274415"
     },
     "user_tz": -540
    },
    "id": "sybgKpOYjXuk",
    "outputId": "c4e49fc8-aafe-4b80-8d47-31f685c7e526"
   },
   "outputs": [
    {
     "data": {
      "image/png": "[encoded data removed]",
      "text/plain": [
       "<Figure size 1280x960 with 1 Axes>"
      ]
     },
     "metadata": {},
     "output_type": "display_data"
    }
   ],
   "source": [
    "from sklearn import tree\n",
    "\n",
    "plt.figure(dpi=200)\n",
    "tree.plot_tree(f);"
   ]
  },
  {
   "cell_type": "markdown",
   "metadata": {
    "id": "unzm1YQ4LPqw"
   },
   "source": [
    "2. MNIST 데이터 셋 분류 과제를 트리(DecisionTreeClassifier) 모델, 랜덤포레스트(RandomForestClassifier) 모델, GBM(GradientBoostingClassifier) 모델을 이용하여 예측하고 성능을 평가하시오. 트리 및 랜덤포레스트 모델은 max_depth, GBM 모델은 n_estimator 파라메터에 대하여만 적절히 파라메터 튜닝을 진행하시오. 각 모델의 random_state는 1으로 고정하며, 그 외의 다른 파라메터에 대해서는 기본 값으로 학습하시오. 특히, 랜덤포레스트 모델에 대하여 n_estimator를 2, 5, 10, 15, 20, 30, 50으로 변경하였을 때, 교차검증 결과 도출되는 최적의 파라메터는 어느 것인가?"
   ]
  },
  {
   "cell_type": "code",
   "execution_count": 24,
   "metadata": {
    "executionInfo": {
     "elapsed": 2,
     "status": "ok",
     "timestamp": 1756101742575,
     "user": {
      "displayName": "colab c",
      "userId": "17273071048194274415"
     },
     "user_tz": -540
    },
    "id": "h1DP7E7nLkvo"
   },
   "outputs": [],
   "source": [
    "from sklearn.datasets import load_digits\n",
    "X, y = load_digits(return_X_y=True)\n",
    "xtrain, xtest, ytrain, ytest = train_test_split(X,y,test_size=0.33,random_state=1)"
   ]
  },
  {
   "cell_type": "code",
   "execution_count": 25,
   "metadata": {
    "colab": {
     "base_uri": "https://localhost:8080/"
    },
    "executionInfo": {
     "elapsed": 211,
     "status": "ok",
     "timestamp": 1756101742786,
     "user": {
      "displayName": "colab c",
      "userId": "17273071048194274415"
     },
     "user_tz": -540
    },
    "id": "_7o4sz9fjXuk",
    "outputId": "aaa0ed3a-5cec-4c65-a37f-bb8dd1a2c474"
   },
   "outputs": [
    {
     "name": "stdout",
     "output_type": "stream",
     "text": [
      "Best parameter : {'max_depth': 10}\n",
      "0.9783873649210307 0.8569023569023569\n"
     ]
    }
   ],
   "source": [
    "from sklearn.tree import DecisionTreeClassifier\n",
    "from sklearn.model_selection import GridSearchCV\n",
    "\n",
    "TREE = DecisionTreeClassifier(\n",
    "    random_state=1\n",
    ")\n",
    "\n",
    "params = {'max_depth': [2, 5, 10, 15, 20, 30, 50]}\n",
    "TREE = GridSearchCV(TREE, params)\n",
    "\n",
    "TREE.fit(xtrain,ytrain)\n",
    "\n",
    "print('Best parameter :',TREE.best_params_) # Best parameter : {'max_depth': 10}\n",
    "print( TREE.score(xtrain,ytrain), TREE.score(xtest,ytest) ) # 0.9783873649210307 0.8569023569023569"
   ]
  },
  {
   "cell_type": "code",
   "execution_count": 26,
   "metadata": {
    "colab": {
     "base_uri": "https://localhost:8080/"
    },
    "executionInfo": {
     "elapsed": 13077,
     "status": "ok",
     "timestamp": 1756101755881,
     "user": {
      "displayName": "colab c",
      "userId": "17273071048194274415"
     },
     "user_tz": -540
    },
    "id": "wW56wbmzjXuk",
    "outputId": "871b01f5-4b80-41e7-840a-1b3fc947f831"
   },
   "outputs": [
    {
     "name": "stdout",
     "output_type": "stream",
     "text": [
      "Best parameter : {'max_depth': 15}\n",
      "1.0 0.9797979797979798\n"
     ]
    }
   ],
   "source": [
    "from sklearn.ensemble import RandomForestClassifier\n",
    "from sklearn.model_selection import GridSearchCV\n",
    "\n",
    "RF = RandomForestClassifier(\n",
    "    random_state = 1\n",
    ")\n",
    "params = {'max_depth': [2, 5, 10, 15, 20, 30, 50]}\n",
    "RF = GridSearchCV( RF, params)\n",
    "RF.fit(xtrain,ytrain)\n",
    "\n",
    "print('Best parameter :',RF.best_params_) # Best parameter : {'max_depth': 15}\n",
    "print( RF.score(xtrain,ytrain), RF.score(xtest,ytest) ) # 1.0 0.9797979797979798"
   ]
  },
  {
   "cell_type": "code",
   "execution_count": 27,
   "metadata": {
    "colab": {
     "base_uri": "https://localhost:8080/"
    },
    "executionInfo": {
     "elapsed": 56416,
     "status": "ok",
     "timestamp": 1756101812295,
     "user": {
      "displayName": "colab c",
      "userId": "17273071048194274415"
     },
     "user_tz": -540
    },
    "id": "n7l969wbjXul",
    "outputId": "9f3453bb-7f20-43f4-ceba-0b3808e3aaba"
   },
   "outputs": [
    {
     "name": "stdout",
     "output_type": "stream",
     "text": [
      "Best parameter : {'n_estimators': 50}\n",
      "1.0 0.9343434343434344\n"
     ]
    }
   ],
   "source": [
    "from sklearn.ensemble import GradientBoostingClassifier\n",
    "from sklearn.model_selection import GridSearchCV\n",
    "\n",
    "GBM = GradientBoostingClassifier(\n",
    "    random_state = 1        # 랜덤 시드\n",
    ")\n",
    "\n",
    "params = {'n_estimators': [2, 5, 10, 15, 20, 30, 50]}\n",
    "\n",
    "GBM = GridSearchCV( GBM, params)\n",
    "GBM.fit(xtrain,ytrain)\n",
    "\n",
    "print('Best parameter :',GBM.best_params_) # Best parameter : {'n_estimators': 50}\n",
    "print( GBM.score(xtrain,ytrain), GBM.score(xtest,ytest) ) # 1.0 0.9343434343434344"
   ]
  },
  {
   "cell_type": "code",
   "execution_count": 27,
   "metadata": {
    "executionInfo": {
     "elapsed": 3,
     "status": "ok",
     "timestamp": 1756101812296,
     "user": {
      "displayName": "colab c",
      "userId": "17273071048194274415"
     },
     "user_tz": -540
    },
    "id": "J3egTn26jXul"
   },
   "outputs": [],
   "source": []
  }
 ],
 "metadata": {
  "colab": {
   "provenance": []
  },
  "kernelspec": {
   "display_name": "Python 3",
   "name": "python3"
  },
  "language_info": {
   "codemirror_mode": {
    "name": "ipython",
    "version": 3
   },
   "file_extension": ".py",
   "mimetype": "text/x-python",
   "name": "python",
   "nbconvert_exporter": "python",
   "pygments_lexer": "ipython3",
   "version": "3.9.15"
  }
 },
 "nbformat": 4,
 "nbformat_minor": 0
}
