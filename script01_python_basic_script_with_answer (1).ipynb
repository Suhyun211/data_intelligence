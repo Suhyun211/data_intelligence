{
 "cells": [
  {
   "cell_type": "markdown",
   "metadata": {
    "id": "ok7o8lEYqD1a"
   },
   "source": [
    "<h1>파이썬 기초</h1><br>"
   ]
  },
  {
   "cell_type": "markdown",
   "metadata": {
    "id": "nY9fRMNTqMxz"
   },
   "source": [
    "# 데이터 타입"
   ]
  },
  {
   "cell_type": "markdown",
   "metadata": {
    "id": "_2-WNZ9PqQ1j"
   },
   "source": [
    "숫자형 데이터"
   ]
  },
  {
   "cell_type": "code",
   "execution_count": 1,
   "metadata": {
    "colab": {
     "base_uri": "https://localhost:8080/"
    },
    "executionInfo": {
     "elapsed": 9,
     "status": "ok",
     "timestamp": 1756098917525,
     "user": {
      "displayName": "colab c",
      "userId": "17273071048194274415"
     },
     "user_tz": -540
    },
    "id": "vYMpuCnAqQGr",
    "outputId": "dc2b6a09-711b-41e8-9bb9-9a6bfc9a698f"
   },
   "outputs": [
    {
     "name": "stdout",
     "output_type": "stream",
     "text": [
      "1 + 2 = 3\n"
     ]
    }
   ],
   "source": [
    "a = 1\n",
    "b = 2\n",
    "c = a+b\n",
    "print(a,'+',b,'=',c) # 출력함수"
   ]
  },
  {
   "cell_type": "code",
   "execution_count": 2,
   "metadata": {
    "colab": {
     "base_uri": "https://localhost:8080/"
    },
    "executionInfo": {
     "elapsed": 4,
     "status": "ok",
     "timestamp": 1756098917595,
     "user": {
      "displayName": "colab c",
      "userId": "17273071048194274415"
     },
     "user_tz": -540
    },
    "id": "yL8WKZ0ypY6g",
    "outputId": "167ab6cb-549c-46b5-b01b-cd584270fd93"
   },
   "outputs": [
    {
     "name": "stdout",
     "output_type": "stream",
     "text": [
      "8 2 15 1.6666666666666667 2\n"
     ]
    }
   ],
   "source": [
    "# 사칙연산: 덧셈, 뺄셈, 곱셈, 나눗셈, 나머지\n",
    "a = 5\n",
    "b = 3\n",
    "print(a+b,a-b,a*b,a/b,a%b)"
   ]
  },
  {
   "cell_type": "markdown",
   "metadata": {
    "id": "R6pVPkdrqtwX"
   },
   "source": [
    "문자열 데이터"
   ]
  },
  {
   "cell_type": "code",
   "execution_count": 3,
   "metadata": {
    "colab": {
     "base_uri": "https://localhost:8080/"
    },
    "executionInfo": {
     "elapsed": 6,
     "status": "ok",
     "timestamp": 1756098917610,
     "user": {
      "displayName": "colab c",
      "userId": "17273071048194274415"
     },
     "user_tz": -540
    },
    "id": "rBQXR3uNrFPN",
    "outputId": "65e50fc6-6516-45a0-891c-7576491edc0f"
   },
   "outputs": [
    {
     "name": "stdout",
     "output_type": "stream",
     "text": [
      "Hello 5\n",
      "H e o\n"
     ]
    }
   ],
   "source": [
    "a = 'Hello'  # 문자열은 '' 혹은 \"\"로 표현\n",
    "print(a, len(a)) # len() 문자열의 길이\n",
    "# 문자열에서 각 문자 참조\n",
    "# 순서대로 0, 1, 2, ...; 뒤에서부터 -1, -2, -3 ...\n",
    "print(a[0],a[1],a[-1])"
   ]
  },
  {
   "cell_type": "code",
   "execution_count": 4,
   "metadata": {
    "colab": {
     "base_uri": "https://localhost:8080/"
    },
    "executionInfo": {
     "elapsed": 10,
     "status": "ok",
     "timestamp": 1756098917619,
     "user": {
      "displayName": "colab c",
      "userId": "17273071048194274415"
     },
     "user_tz": -540
    },
    "id": "6vZptj-jrLBs",
    "outputId": "85844722-5d31-4e8e-ccbb-f25f835f9dae"
   },
   "outputs": [
    {
     "name": "stdout",
     "output_type": "stream",
     "text": [
      "HelloWorld\n"
     ]
    }
   ],
   "source": [
    "a = 'Hello'\n",
    "b = 'World'\n",
    "print(a+b) # 문자열 합치기"
   ]
  },
  {
   "cell_type": "markdown",
   "metadata": {
    "id": "yJgHhHfvrpvv"
   },
   "source": [
    "리스트 데이터"
   ]
  },
  {
   "cell_type": "code",
   "execution_count": 5,
   "metadata": {
    "colab": {
     "base_uri": "https://localhost:8080/"
    },
    "executionInfo": {
     "elapsed": 4,
     "status": "ok",
     "timestamp": 1756098917624,
     "user": {
      "displayName": "colab c",
      "userId": "17273071048194274415"
     },
     "user_tz": -540
    },
    "id": "cb2m6_S7reFj",
    "outputId": "4c891c35-8c81-4a8b-905f-716c961341e5"
   },
   "outputs": [
    {
     "name": "stdout",
     "output_type": "stream",
     "text": [
      "1\n",
      "-3.1\n",
      "[5, 'b'] 5\n"
     ]
    }
   ],
   "source": [
    "# 리스트: 여러개의 값을 갖고 있는 데이터 타입\n",
    "# 각 원소는 0, 1, 2... 로 참조 (인덱싱)\n",
    "# 뒤에서부터는 -1, -2 ...\n",
    "a = [1,-3.1,'hello',[5,'b']]\n",
    "print(a[0])\n",
    "print(a[1])\n",
    "print(a[3],a[3][0])"
   ]
  },
  {
   "cell_type": "code",
   "execution_count": 6,
   "metadata": {
    "colab": {
     "base_uri": "https://localhost:8080/"
    },
    "executionInfo": {
     "elapsed": 66,
     "status": "ok",
     "timestamp": 1756098917690,
     "user": {
      "displayName": "colab c",
      "userId": "17273071048194274415"
     },
     "user_tz": -540
    },
    "id": "mnaXeicxr3z-",
    "outputId": "297e3252-5954-4b6c-8341-239987acaf46"
   },
   "outputs": [
    {
     "name": "stdout",
     "output_type": "stream",
     "text": [
      "[1, -3.1, 'hello', [5, 'b'], 'added']\n"
     ]
    }
   ],
   "source": [
    "a.append('added') # 새로운 값의 추가\n",
    "print(a)"
   ]
  },
  {
   "cell_type": "markdown",
   "metadata": {
    "id": "6Zy_taUjtU70"
   },
   "source": [
    "딕셔너리 데이터"
   ]
  },
  {
   "cell_type": "code",
   "execution_count": 7,
   "metadata": {
    "colab": {
     "base_uri": "https://localhost:8080/"
    },
    "executionInfo": {
     "elapsed": 32,
     "status": "ok",
     "timestamp": 1756098917723,
     "user": {
      "displayName": "colab c",
      "userId": "17273071048194274415"
     },
     "user_tz": -540
    },
    "id": "GWBtN1f1siT-",
    "outputId": "65513c57-7433-4112-e818-5c8446933e47"
   },
   "outputs": [
    {
     "name": "stdout",
     "output_type": "stream",
     "text": [
      "1 2 three 4\n"
     ]
    }
   ],
   "source": [
    "# 딕셔너리: 키-값 의 쌍을 갖는 데이터 타입\n",
    "# 변수[키]로 값을 참조\n",
    "a = {'one':1, 'two':2, 3:'three', 4:4}\n",
    "print(a['one'],a['two'],a[3],a[4])"
   ]
  },
  {
   "cell_type": "code",
   "execution_count": 8,
   "metadata": {
    "colab": {
     "base_uri": "https://localhost:8080/"
    },
    "executionInfo": {
     "elapsed": 4,
     "status": "ok",
     "timestamp": 1756098917728,
     "user": {
      "displayName": "colab c",
      "userId": "17273071048194274415"
     },
     "user_tz": -540
    },
    "id": "kqnDKFGBuLjo",
    "outputId": "b6fd5b85-2f99-40cc-b83c-15ac2cb19f08"
   },
   "outputs": [
    {
     "name": "stdout",
     "output_type": "stream",
     "text": [
      "{'one': 1, 'two': 2, 3: 'three', 4: 4, 'five': 'fivefive'}\n"
     ]
    }
   ],
   "source": [
    "a['five'] = 'fivefive'  # 새로운 키로 새로운 값을 추가\n",
    "print(a)"
   ]
  },
  {
   "cell_type": "code",
   "execution_count": 8,
   "metadata": {
    "executionInfo": {
     "elapsed": 1,
     "status": "ok",
     "timestamp": 1756098917730,
     "user": {
      "displayName": "colab c",
      "userId": "17273071048194274415"
     },
     "user_tz": -540
    },
    "id": "XI46_U6su-Qm"
   },
   "outputs": [],
   "source": []
  },
  {
   "cell_type": "markdown",
   "metadata": {
    "id": "C12A8tgBvFYz"
   },
   "source": [
    "# 조건문과 반복문"
   ]
  },
  {
   "cell_type": "markdown",
   "metadata": {
    "id": "Oc6-do-BvTeM"
   },
   "source": [
    "조건문"
   ]
  },
  {
   "cell_type": "code",
   "execution_count": 9,
   "metadata": {
    "colab": {
     "base_uri": "https://localhost:8080/"
    },
    "executionInfo": {
     "elapsed": 3,
     "status": "ok",
     "timestamp": 1756098917734,
     "user": {
      "displayName": "colab c",
      "userId": "17273071048194274415"
     },
     "user_tz": -540
    },
    "id": "r50zEYAzvTBu",
    "outputId": "9411cf2b-9e03-4f7c-9714-a56892d47229"
   },
   "outputs": [
    {
     "name": "stdout",
     "output_type": "stream",
     "text": [
      "10 is larger or equal to 10\n"
     ]
    }
   ],
   "source": [
    "a = 10\n",
    "if a < 5:\n",
    "  print(a,'is less than 5')\n",
    "elif a < 10:\n",
    "  print(a,'is larger or equal to 5 and less than 10')\n",
    "else:\n",
    "  print(a,'is larger or equal to 10')"
   ]
  },
  {
   "cell_type": "code",
   "execution_count": 10,
   "metadata": {
    "colab": {
     "base_uri": "https://localhost:8080/"
    },
    "executionInfo": {
     "elapsed": 3,
     "status": "ok",
     "timestamp": 1756098917738,
     "user": {
      "displayName": "colab c",
      "userId": "17273071048194274415"
     },
     "user_tz": -540
    },
    "id": "lzMSTzMavPKO",
    "outputId": "427e648f-4941-4d22-ff71-a3ff2f7c9e9e"
   },
   "outputs": [
    {
     "name": "stdout",
     "output_type": "stream",
     "text": [
      "not equal\n"
     ]
    }
   ],
   "source": [
    "b = 'hello'\n",
    "if b == 'world':\n",
    "  print('equal')\n",
    "else:\n",
    "  print('not equal')"
   ]
  },
  {
   "cell_type": "markdown",
   "metadata": {
    "id": "x0aNdCkOxhqN"
   },
   "source": [
    "반복문"
   ]
  },
  {
   "cell_type": "code",
   "execution_count": 11,
   "metadata": {
    "colab": {
     "base_uri": "https://localhost:8080/"
    },
    "executionInfo": {
     "elapsed": 4,
     "status": "ok",
     "timestamp": 1756098917743,
     "user": {
      "displayName": "colab c",
      "userId": "17273071048194274415"
     },
     "user_tz": -540
    },
    "id": "4747guKwxhVy",
    "outputId": "8a2681d0-7476-41e9-b32f-5895b362951f"
   },
   "outputs": [
    {
     "name": "stdout",
     "output_type": "stream",
     "text": [
      "1\n",
      "two\n",
      "[3, 4]\n"
     ]
    }
   ],
   "source": [
    "A = [1, 'two',[3,4]]\n",
    "for a in A:\n",
    "  print(a)"
   ]
  },
  {
   "cell_type": "code",
   "execution_count": 12,
   "metadata": {
    "colab": {
     "base_uri": "https://localhost:8080/"
    },
    "executionInfo": {
     "elapsed": 24,
     "status": "ok",
     "timestamp": 1756098917768,
     "user": {
      "displayName": "colab c",
      "userId": "17273071048194274415"
     },
     "user_tz": -540
    },
    "id": "LTrbMkazvJ0Q",
    "outputId": "8b48eae8-8cf5-49f1-8bae-695db09e7458"
   },
   "outputs": [
    {
     "name": "stdout",
     "output_type": "stream",
     "text": [
      "45\n"
     ]
    }
   ],
   "source": [
    "s = 0\n",
    "for i in range(10):\n",
    "  s = s+i\n",
    "print(s)"
   ]
  },
  {
   "cell_type": "code",
   "execution_count": 13,
   "metadata": {
    "colab": {
     "base_uri": "https://localhost:8080/"
    },
    "executionInfo": {
     "elapsed": 3,
     "status": "ok",
     "timestamp": 1756098917772,
     "user": {
      "displayName": "colab c",
      "userId": "17273071048194274415"
     },
     "user_tz": -540
    },
    "id": "dGFZOr9ax20q",
    "outputId": "a7b60724-23e8-40da-d9a0-6a377da162eb"
   },
   "outputs": [
    {
     "name": "stdout",
     "output_type": "stream",
     "text": [
      "1665\n"
     ]
    }
   ],
   "source": [
    "s = 0\n",
    "for i in range(10,100):\n",
    "  if i%3 == 0:\n",
    "    s = s+i\n",
    "print(s)"
   ]
  },
  {
   "cell_type": "markdown",
   "metadata": {
    "id": "LKKlzMEcyFpw"
   },
   "source": [
    "# 예제"
   ]
  },
  {
   "cell_type": "markdown",
   "metadata": {
    "id": "e_K6C5Abyacj"
   },
   "source": [
    "1. 소수 판별"
   ]
  },
  {
   "cell_type": "code",
   "execution_count": 14,
   "metadata": {
    "colab": {
     "base_uri": "https://localhost:8080/"
    },
    "executionInfo": {
     "elapsed": 5,
     "status": "ok",
     "timestamp": 1756098917778,
     "user": {
      "displayName": "colab c",
      "userId": "17273071048194274415"
     },
     "user_tz": -540
    },
    "id": "XQygmovIyaAb",
    "outputId": "2aed4498-f4ce-4825-de5b-bac759be92cc"
   },
   "outputs": [
    {
     "name": "stdout",
     "output_type": "stream",
     "text": [
      "97 is a prime number\n"
     ]
    }
   ],
   "source": [
    "n = 97\n",
    "\n",
    "k = 0\n",
    "for i in range(2,n):\n",
    "  if n%i == 0:\n",
    "    k = k+1\n",
    "\n",
    "if k == 0:\n",
    "  print(n,'is a prime number')\n",
    "else:\n",
    "  print(n,'is not a prime number')"
   ]
  },
  {
   "cell_type": "markdown",
   "metadata": {
    "id": "9YaQWx7tzIXO"
   },
   "source": [
    "2. 알파벳 세기"
   ]
  },
  {
   "cell_type": "code",
   "execution_count": 15,
   "metadata": {
    "colab": {
     "base_uri": "https://localhost:8080/"
    },
    "executionInfo": {
     "elapsed": 4,
     "status": "ok",
     "timestamp": 1756098917782,
     "user": {
      "displayName": "colab c",
      "userId": "17273071048194274415"
     },
     "user_tz": -540
    },
    "id": "o1LlnvgOyFCD",
    "outputId": "71c7be20-4662-403a-b2bd-8c1ebe973c84"
   },
   "outputs": [
    {
     "name": "stdout",
     "output_type": "stream",
     "text": [
      "a 1\n",
      "c 1\n",
      "d 1\n",
      "e 3\n",
      "h 1\n",
      "i 1\n",
      "l 2\n",
      "m 2\n",
      "n 1\n",
      "o 7\n",
      "s 1\n",
      "t 1\n",
      "u 3\n",
      "v 2\n",
      "y 2\n"
     ]
    }
   ],
   "source": [
    "alphabets = 'abcdefghijklmnopqrstuvwxyz'\n",
    "sentence = 'iloveyousomuchandyoulovemetoo'\n",
    "count = {} # 빈 딕셔너리\n",
    "for c in alphabets:  # 각 알파벳의 카운트를 0으로 세팅\n",
    "  count[c] = 0\n",
    "for c in sentence:   # 문장에 포함된 알파벳을 1씩 증가\n",
    "  count[c] = count[c]+1\n",
    "for c in alphabets:  # 존재하는 알파벳에 대하여 출력\n",
    "  if count[c]>0:\n",
    "    print(c,count[c])"
   ]
  },
  {
   "cell_type": "markdown",
   "metadata": {
    "id": "yY6dE4BPAJU0"
   },
   "source": [
    "# 연습문제"
   ]
  },
  {
   "cell_type": "markdown",
   "metadata": {
    "id": "eoaRxtY_AOE6"
   },
   "source": [
    "\n",
    "\n",
    "```\n",
    "# 코드로 형식 지정됨\n",
    "```\n",
    "\n",
    "1. 350이상 3500이하의 숫자 중에서 7의 배수의 합은 얼마인가?"
   ]
  },
  {
   "cell_type": "code",
   "execution_count": 16,
   "metadata": {
    "colab": {
     "base_uri": "https://localhost:8080/"
    },
    "executionInfo": {
     "elapsed": 5,
     "status": "ok",
     "timestamp": 1756098917787,
     "user": {
      "displayName": "colab c",
      "userId": "17273071048194274415"
     },
     "user_tz": -540
    },
    "id": "nPiMBTv9AMpB",
    "outputId": "c9da5fdf-25d8-4678-e647-f8b35c9bb0b1"
   },
   "outputs": [
    {
     "name": "stdout",
     "output_type": "stream",
     "text": [
      "868175\n"
     ]
    }
   ],
   "source": [
    "sum_of_multiplies_of_7 = 0\n",
    "for i in range(350, 3501):\n",
    "    if i % 7 == 0:\n",
    "        sum_of_multiplies_of_7 += i\n",
    "\n",
    "print(sum_of_multiplies_of_7)"
   ]
  },
  {
   "cell_type": "code",
   "execution_count": 4,
   "metadata": {},
   "outputs": [
    {
     "name": "stdout",
     "output_type": "stream",
     "text": [
      "868175\n"
     ]
    }
   ],
   "source": [
    "print(sum([l for l in range(350,3501) if l%7==0]))"
   ]
  },
  {
   "cell_type": "markdown",
   "metadata": {
    "id": "NetIx0jBAZ9g"
   },
   "source": [
    "2. 5초과 2000이하의 숫자 중에서 소수는 몇 개인가?"
   ]
  },
  {
   "cell_type": "code",
   "execution_count": 17,
   "metadata": {
    "colab": {
     "base_uri": "https://localhost:8080/"
    },
    "executionInfo": {
     "elapsed": 5,
     "status": "ok",
     "timestamp": 1756098917793,
     "user": {
      "displayName": "colab c",
      "userId": "17273071048194274415"
     },
     "user_tz": -540
    },
    "id": "ZFtCf9eLAMiA",
    "outputId": "de1cdf17-c7df-4ee8-c51e-c4423910e63d"
   },
   "outputs": [
    {
     "name": "stdout",
     "output_type": "stream",
     "text": [
      "300\n"
     ]
    }
   ],
   "source": [
    "prime_count = 0\n",
    "for i in range(6, 2000):\n",
    "    is_prime = True\n",
    "    for j in range(2, i):\n",
    "        if (i % j) == 0:\n",
    "            is_prime = False\n",
    "            break\n",
    "    if is_prime:\n",
    "        prime_count += 1\n",
    "print(prime_count)"
   ]
  },
  {
   "cell_type": "code",
   "execution_count": 7,
   "metadata": {},
   "outputs": [
    {
     "name": "stdout",
     "output_type": "stream",
     "text": [
      "300\n"
     ]
    }
   ],
   "source": [
    "print(len([  a for a in range(6,2001) if 0 not in [a%b for b in range(2, a)]   ]))"
   ]
  },
  {
   "cell_type": "code",
   "execution_count": 17,
   "metadata": {
    "executionInfo": {
     "elapsed": 1,
     "status": "ok",
     "timestamp": 1756098917794,
     "user": {
      "displayName": "colab c",
      "userId": "17273071048194274415"
     },
     "user_tz": -540
    },
    "id": "4AQ8TaeJ6FTL"
   },
   "outputs": [],
   "source": []
  }
 ],
 "metadata": {
  "colab": {
   "provenance": []
  },
  "kernelspec": {
   "display_name": "Python 3",
   "name": "python3"
  },
  "language_info": {
   "codemirror_mode": {
    "name": "ipython",
    "version": 3
   },
   "file_extension": ".py",
   "mimetype": "text/x-python",
   "name": "python",
   "nbconvert_exporter": "python",
   "pygments_lexer": "ipython3",
   "version": "3.11.9"
  }
 },
 "nbformat": 4,
 "nbformat_minor": 0
}
